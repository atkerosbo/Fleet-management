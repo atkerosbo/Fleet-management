{
 "cells": [
  {
   "cell_type": "code",
   "execution_count": 9,
   "metadata": {},
   "outputs": [],
   "source": [
    "DRIVER_NAME = 'SQL Server'\n",
    "SERVER_NAME = 'DESKTOP-HH6PBH8'\n",
    "DATABASE_NAME = 'fleet_mng_vehicles'\n",
    "USERNAME = 'fleetmng'\n",
    "PASSWORD = 'hubbabubba2020'\n",
    "\n",
    "connection_string = f\"\"\"ArithmeticError\n",
    "    DRIVER={DRIVER_NAME};\n",
    "    SERVER={SERVER_NAME};\n",
    "    DATABASE={DATABASE_NAME};\n",
    "    Trusted_Connection=yes;\n",
    "    uid={USERNAME};\n",
    "    pswd={PASSWORD};\n",
    "    \"\"\"\n"
   ]
  },
  {
   "cell_type": "code",
   "execution_count": 8,
   "metadata": {},
   "outputs": [
    {
     "ename": "Error",
     "evalue": "('IM002', '[IM002] [Microsoft][ODBC Driver Manager] Data source name not found and no default driver specified')",
     "output_type": "error",
     "traceback": [
      "\u001b[1;31m---------------------------------------------------------------------------\u001b[0m",
      "\u001b[1;31mError\u001b[0m                                     Traceback (most recent call last)",
      "Cell \u001b[1;32mIn[8], line 1\u001b[0m\n\u001b[1;32m----> 1\u001b[0m con \u001b[39m=\u001b[39m odbc\u001b[39m.\u001b[39;49mconnect(connection_string)\n\u001b[0;32m      2\u001b[0m \u001b[39mprint\u001b[39m(con)\n",
      "File \u001b[1;32mc:\\Users\\Atila\\Documents\\GitHub\\Fleet-management\\.venv\\Lib\\site-packages\\pypyodbc.py:2454\u001b[0m, in \u001b[0;36mConnection.__init__\u001b[1;34m(self, connectString, autocommit, ansi, timeout, unicode_results, readonly, **kargs)\u001b[0m\n\u001b[0;32m   2450\u001b[0m \u001b[39mif\u001b[39;00m \u001b[39mself\u001b[39m\u001b[39m.\u001b[39mconnection_timeout \u001b[39m!=\u001b[39m \u001b[39m0\u001b[39m:\n\u001b[0;32m   2451\u001b[0m     \u001b[39mself\u001b[39m\u001b[39m.\u001b[39mset_connection_timeout(connection_timeout)\n\u001b[1;32m-> 2454\u001b[0m \u001b[39mself\u001b[39;49m\u001b[39m.\u001b[39;49mconnect(connectString, autocommit, ansi, timeout, unicode_results, readonly)\n",
      "File \u001b[1;32mc:\\Users\\Atila\\Documents\\GitHub\\Fleet-management\\.venv\\Lib\\site-packages\\pypyodbc.py:2507\u001b[0m, in \u001b[0;36mConnection.connect\u001b[1;34m(self, connectString, autocommit, ansi, timeout, unicode_results, readonly)\u001b[0m\n\u001b[0;32m   2505\u001b[0m \u001b[39melse\u001b[39;00m:\n\u001b[0;32m   2506\u001b[0m     ret \u001b[39m=\u001b[39m odbc_func(\u001b[39mself\u001b[39m\u001b[39m.\u001b[39mdbc_h, \u001b[39m0\u001b[39m, c_connectString, \u001b[39mlen\u001b[39m(\u001b[39mself\u001b[39m\u001b[39m.\u001b[39mconnectString), \u001b[39mNone\u001b[39;00m, \u001b[39m0\u001b[39m, \u001b[39mNone\u001b[39;00m, SQL_DRIVER_NOPROMPT)\n\u001b[1;32m-> 2507\u001b[0m check_success(\u001b[39mself\u001b[39;49m, ret)\n\u001b[0;32m   2510\u001b[0m \u001b[39m# Set the connection's attribute of \"autocommit\" \u001b[39;00m\n\u001b[0;32m   2511\u001b[0m \u001b[39m#\u001b[39;00m\n\u001b[0;32m   2512\u001b[0m \u001b[39mself\u001b[39m\u001b[39m.\u001b[39mautocommit \u001b[39m=\u001b[39m autocommit\n",
      "File \u001b[1;32mc:\\Users\\Atila\\Documents\\GitHub\\Fleet-management\\.venv\\Lib\\site-packages\\pypyodbc.py:1009\u001b[0m, in \u001b[0;36mcheck_success\u001b[1;34m(ODBC_obj, ret)\u001b[0m\n\u001b[0;32m   1007\u001b[0m     ctrl_err(SQL_HANDLE_STMT, ODBC_obj\u001b[39m.\u001b[39mstmt_h, ret, ODBC_obj\u001b[39m.\u001b[39mansi)\n\u001b[0;32m   1008\u001b[0m \u001b[39melif\u001b[39;00m \u001b[39misinstance\u001b[39m(ODBC_obj, Connection):\n\u001b[1;32m-> 1009\u001b[0m     ctrl_err(SQL_HANDLE_DBC, ODBC_obj\u001b[39m.\u001b[39;49mdbc_h, ret, ODBC_obj\u001b[39m.\u001b[39;49mansi)\n\u001b[0;32m   1010\u001b[0m \u001b[39melse\u001b[39;00m:\n\u001b[0;32m   1011\u001b[0m     ctrl_err(SQL_HANDLE_ENV, ODBC_obj, ret, \u001b[39mFalse\u001b[39;00m)\n",
      "File \u001b[1;32mc:\\Users\\Atila\\Documents\\GitHub\\Fleet-management\\.venv\\Lib\\site-packages\\pypyodbc.py:985\u001b[0m, in \u001b[0;36mctrl_err\u001b[1;34m(ht, h, val_ret, ansi)\u001b[0m\n\u001b[0;32m    983\u001b[0m     \u001b[39mraise\u001b[39;00m OperationalError(state,err_text)\n\u001b[0;32m    984\u001b[0m \u001b[39melif\u001b[39;00m state[:\u001b[39m2\u001b[39m] \u001b[39min\u001b[39;00m (raw_s(\u001b[39m'\u001b[39m\u001b[39mIM\u001b[39m\u001b[39m'\u001b[39m),raw_s(\u001b[39m'\u001b[39m\u001b[39mHY\u001b[39m\u001b[39m'\u001b[39m)):\n\u001b[1;32m--> 985\u001b[0m     \u001b[39mraise\u001b[39;00m Error(state,err_text)\n\u001b[0;32m    986\u001b[0m \u001b[39melse\u001b[39;00m:\n\u001b[0;32m    987\u001b[0m     \u001b[39mraise\u001b[39;00m DatabaseError(state,err_text)\n",
      "\u001b[1;31mError\u001b[0m: ('IM002', '[IM002] [Microsoft][ODBC Driver Manager] Data source name not found and no default driver specified')"
     ]
    }
   ],
   "source": [
    "con = odbc.connect(connection_string)\n",
    "print(con)"
   ]
  }
 ],
 "metadata": {
  "kernelspec": {
   "display_name": ".venv",
   "language": "python",
   "name": "python3"
  },
  "language_info": {
   "codemirror_mode": {
    "name": "ipython",
    "version": 3
   },
   "file_extension": ".py",
   "mimetype": "text/x-python",
   "name": "python",
   "nbconvert_exporter": "python",
   "pygments_lexer": "ipython3",
   "version": "3.11.3"
  },
  "orig_nbformat": 4
 },
 "nbformat": 4,
 "nbformat_minor": 2
}
